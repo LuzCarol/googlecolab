{
  "nbformat": 4,
  "nbformat_minor": 0,
  "metadata": {
    "colab": {
      "provenance": [],
      "authorship_tag": "ABX9TyOaY6uH7Ma3hhyq0hoItmNI",
      "include_colab_link": true
    },
    "kernelspec": {
      "name": "python3",
      "display_name": "Python 3"
    },
    "language_info": {
      "name": "python"
    }
  },
  "cells": [
    {
      "cell_type": "markdown",
      "metadata": {
        "id": "view-in-github",
        "colab_type": "text"
      },
      "source": [
        "<a href=\"https://colab.research.google.com/github/LuzCarol/googlecolab/blob/main/Untitled4.ipynb\" target=\"_parent\"><img src=\"https://colab.research.google.com/assets/colab-badge.svg\" alt=\"Open In Colab\"/></a>"
      ]
    },
    {
      "cell_type": "code",
      "execution_count": 2,
      "metadata": {
        "id": "CdB_HeabFua_",
        "colab": {
          "base_uri": "https://localhost:8080/"
        },
        "outputId": "91774de6-09c7-4cf3-99ae-aa432679816a"
      },
      "outputs": [
        {
          "output_type": "stream",
          "name": "stdout",
          "text": [
            "{1, 2, 3}\n"
          ]
        }
      ],
      "source": [
        "A = set((1,2,3))\n",
        "print(A)"
      ]
    },
    {
      "cell_type": "code",
      "source": [
        "B = set (\"xxabc\")\n",
        "print(B)"
      ],
      "metadata": {
        "colab": {
          "base_uri": "https://localhost:8080/"
        },
        "id": "aVqWvJbTe3Et",
        "outputId": "416a2806-ee94-4305-d897-012ce40fcce1"
      },
      "execution_count": 3,
      "outputs": [
        {
          "output_type": "stream",
          "name": "stdout",
          "text": [
            "{'c', 'a', 'x', 'b'}\n"
          ]
        }
      ]
    },
    {
      "cell_type": "code",
      "source": [
        "C = set ([1,(1,2),3,1])\n",
        "print(C)\n"
      ],
      "metadata": {
        "colab": {
          "base_uri": "https://localhost:8080/"
        },
        "id": "V54sYeknfPbe",
        "outputId": "75eff303-c881-4e6f-d824-6466dec9ed4a"
      },
      "execution_count": 4,
      "outputs": [
        {
          "output_type": "stream",
          "name": "stdout",
          "text": [
            "{(1, 2), 1, 3}\n"
          ]
        }
      ]
    },
    {
      "cell_type": "code",
      "source": [
        "D = set((1,3,5,7,9))\n",
        "print (D)\n",
        "2 in D"
      ],
      "metadata": {
        "colab": {
          "base_uri": "https://localhost:8080/"
        },
        "id": "hnoFP664f_x_",
        "outputId": "933e1f55-b95a-414e-a0e5-51240cfe8617"
      },
      "execution_count": 8,
      "outputs": [
        {
          "output_type": "stream",
          "name": "stdout",
          "text": [
            "{1, 3, 5, 7, 9}\n"
          ]
        },
        {
          "output_type": "execute_result",
          "data": {
            "text/plain": [
              "False"
            ]
          },
          "metadata": {},
          "execution_count": 8
        }
      ]
    },
    {
      "cell_type": "code",
      "source": [
        "A = set((-3,-2,-1,0))\n",
        "B = set((-1,0,1))\n",
        "uniao = A.union(B)\n",
        "print(uniao) "
      ],
      "metadata": {
        "colab": {
          "base_uri": "https://localhost:8080/"
        },
        "id": "LjwmzW0RgazY",
        "outputId": "df857260-397b-499e-8378-5af5d166c2ea"
      },
      "execution_count": 11,
      "outputs": [
        {
          "output_type": "stream",
          "name": "stdout",
          "text": [
            "{0, 1, -1, -3, -2}\n"
          ]
        }
      ]
    },
    {
      "cell_type": "code",
      "source": [
        "A = set((-3,-2,-1,0))\n",
        "B = set((-1,0,1))\n",
        "interseccao = A.intersection(B)\n",
        "print(interseccao)"
      ],
      "metadata": {
        "colab": {
          "base_uri": "https://localhost:8080/"
        },
        "id": "Qc13As5pj_C-",
        "outputId": "46b15a50-0f6a-417f-af56-1b1266560558"
      },
      "execution_count": 12,
      "outputs": [
        {
          "output_type": "stream",
          "name": "stdout",
          "text": [
            "{0, -1}\n"
          ]
        }
      ]
    },
    {
      "cell_type": "code",
      "source": [
        "A = set((-4,-3,-2,-1,0))\n",
        "B = set((-2, -1, 0, 1))\n",
        "dif = A.difference(B)\n",
        "print(dif)"
      ],
      "metadata": {
        "colab": {
          "base_uri": "https://localhost:8080/"
        },
        "id": "I57kDaolokUm",
        "outputId": "e1816e59-b4a4-41d6-d5d7-80334017acff"
      },
      "execution_count": 13,
      "outputs": [
        {
          "output_type": "stream",
          "name": "stdout",
          "text": [
            "{-4, -3}\n"
          ]
        }
      ]
    },
    {
      "cell_type": "code",
      "source": [
        "A = set((1,2,3))\n",
        "B = set((2,3,4))\n",
        "difsim = A.symmetric_difference(B)\n",
        "print(difsim)"
      ],
      "metadata": {
        "colab": {
          "base_uri": "https://localhost:8080/"
        },
        "id": "spPSUwHQqmnz",
        "outputId": "c2161119-2ac2-4110-ffed-cfbbe6303f44"
      },
      "execution_count": 14,
      "outputs": [
        {
          "output_type": "stream",
          "name": "stdout",
          "text": [
            "{1, 4}\n"
          ]
        }
      ]
    }
  ]
}