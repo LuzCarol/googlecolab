{
  "nbformat": 4,
  "nbformat_minor": 0,
  "metadata": {
    "colab": {
      "provenance": [],
      "authorship_tag": "ABX9TyOsNdJtJhzfQ5XZsJoDC+PU",
      "include_colab_link": true
    },
    "kernelspec": {
      "name": "python3",
      "display_name": "Python 3"
    },
    "language_info": {
      "name": "python"
    }
  },
  "cells": [
    {
      "cell_type": "markdown",
      "metadata": {
        "id": "view-in-github",
        "colab_type": "text"
      },
      "source": [
        "<a href=\"https://colab.research.google.com/github/LuzCarol/googlecolab/blob/main/paratrabalho.ipynb\" target=\"_parent\"><img src=\"https://colab.research.google.com/assets/colab-badge.svg\" alt=\"Open In Colab\"/></a>"
      ]
    },
    {
      "cell_type": "code",
      "execution_count": 6,
      "metadata": {
        "colab": {
          "base_uri": "https://localhost:8080/"
        },
        "id": "SwX0qIjBX1x_",
        "outputId": "6846671f-6ecd-41b5-c1fd-bf1c6250cc90"
      },
      "outputs": [
        {
          "output_type": "execute_result",
          "data": {
            "text/plain": [
              "6"
            ]
          },
          "metadata": {},
          "execution_count": 6
        }
      ],
      "source": [
        "def prod(x,y): \n",
        " p = x * y\n",
        " return p\n",
        "\n",
        "prod(2,3)"
      ]
    },
    {
      "cell_type": "code",
      "source": [
        "#-----------Média Aritmética Simples-----------\n",
        "def mediaiesb(dados):\n",
        "\n",
        " n = len(dados) #números de elementos da lista\n",
        " s = sum(dados)       #somatório inicial igual a 0\n",
        " return s/n\n",
        "\n",
        "#------------------------------------------------------------------------\n",
        "import statistics\n",
        "dados = [7.2, 8.5, 6.0, 10.0, 5.3, 9.2, 1.2, 13.4, 0.7]\n",
        "print(('Média algoritmo:'), mediaiesb(dados), 'Média biblioteca',statistics.mean(dados))\n"
      ],
      "metadata": {
        "colab": {
          "base_uri": "https://localhost:8080/"
        },
        "id": "1Cx-FDXrZ-_F",
        "outputId": "bfdfd5f9-06c7-4429-c960-bd7b22fad1e4"
      },
      "execution_count": 12,
      "outputs": [
        {
          "output_type": "stream",
          "name": "stdout",
          "text": [
            "Média algoritmo: 6.833333333333334 Média biblioteca 6.833333333333333\n"
          ]
        }
      ]
    },
    {
      "cell_type": "code",
      "source": [
        "#-----------Média Aritmética Ponderada 01-----------\n",
        "def mediaponderadaiesb(dados, pesos):\n",
        " n = len(dados)\n",
        " num = 0\n",
        " den = 0 \n",
        " for i in range(n):\n",
        "   num = num + dados[i]*pesos[i]\n",
        "   den = den + pesos[i]\n",
        " return num/den\n",
        "#------------------------------------------------------------------------\n",
        "dados = [7.2, 8.5, 6.0, 10.0, 5.3, 9.2, 1.2, 13.4, 0.7]\n",
        "pesos = [1.0, 2.0, 1.5, 0.5, 1.0, 0.7, 3.0, 0.2, 5.0]\n",
        "print(('Média ponderada algoritmo:'),mediaponderadaiesb(dados, pesos))"
      ],
      "metadata": {
        "colab": {
          "base_uri": "https://localhost:8080/"
        },
        "id": "zGY1TBpWeaQv",
        "outputId": "c193bab7-a138-4a1b-c4de-4fc351a9687a"
      },
      "execution_count": 26,
      "outputs": [
        {
          "output_type": "stream",
          "name": "stdout",
          "text": [
            "Média ponderada algoritmo: 4.008053691275168\n"
          ]
        }
      ]
    },
    {
      "cell_type": "code",
      "source": [
        "#-----------Média Aritmética Ponderada 02----------\n",
        "def mediaponderadaiesb(dados, pesos):\n",
        " n = len(dados)\n",
        " num = 0\n",
        " den = 0 \n",
        " for x, y in zip(dados, pesos):\n",
        "   num = num + x*y\n",
        "   den = den + y\n",
        " return num/den\n",
        "\n",
        "#------------------------------------------------------------------------\n",
        "import statistics\n",
        "dados = [7.2, 8.5, 6.0, 10.0, 5.3, 9.2, 1.2, 13.4, 0.7]\n",
        "pesos = [1.0, 2.0, 1.5, 0.5, 1.0, 0.7, 3.0, 0.2, 5.0]\n",
        "print(('Média ponderada algoritmo:'), mediaponderadaiesb(dados, pesos))"
      ],
      "metadata": {
        "colab": {
          "base_uri": "https://localhost:8080/"
        },
        "id": "LwV6mZ29hmMJ",
        "outputId": "94484e23-4fa9-4748-e25e-673ef46d4557"
      },
      "execution_count": 27,
      "outputs": [
        {
          "output_type": "stream",
          "name": "stdout",
          "text": [
            "Média ponderada algoritmo: 4.008053691275168\n"
          ]
        }
      ]
    },
    {
      "cell_type": "code",
      "source": [
        "#-----------Média Aritmética Ponderada 03----------\n",
        "import numpy as np\n",
        "def mediaponderadaiesb(dados, pesos):\n",
        " n = len(dados)\n",
        " num = sum(np.multiply(dados,pesos))\n",
        " den = sum(pesos) \n",
        " return num/den\n",
        "\n",
        "#------------------------------------------------------------------------\n",
        "dados = [7.2, 8.5, 6.0, 10.0, 5.3, 9.2, 1.2, 13.4, 0.7]\n",
        "pesos = [1.0, 2.0, 1.5, 0.5, 1.0, 0.7, 3.0, 0.2, 5.0]\n",
        "print(('Média ponderada algoritmo:'), mediaponderadaiesb(dados, pesos))"
      ],
      "metadata": {
        "colab": {
          "base_uri": "https://localhost:8080/"
        },
        "id": "go-bJQkKim9h",
        "outputId": "463fd690-2609-4e97-b077-625ba218e944"
      },
      "execution_count": 20,
      "outputs": [
        {
          "output_type": "stream",
          "name": "stdout",
          "text": [
            "Média ponderada algoritmo: 4.008053691275168\n"
          ]
        }
      ]
    },
    {
      "cell_type": "code",
      "source": [
        "#-----------Mediana-----------\n",
        "def medianaiesb(dados):\n",
        " dados.sort()\n",
        " n = len(dados) #número de elementos da lista\n",
        " if n % 2 == 0: # n PAR \n",
        "  indice1 = n/2 -1\n",
        "  indice2 = n/2 \n",
        "  med = (dados[int(indice1)] + dados[int(indice2)])/2\n",
        " else: # n IMPAR\n",
        "  indice = (n-1)/2\n",
        "  med = dados[int(indice)]\n",
        " return med\n",
        "#------------------------------------------------------------------------\n",
        "dados = [7.2, 8.5, 6.0, 10.0, 5.3, 9.2, 1.2, 13.4]\n",
        "print(('Mediana algoritmo:'), medianaiesb(dados), 'Mediana biblioteca', statistics.median(dados))"
      ],
      "metadata": {
        "colab": {
          "base_uri": "https://localhost:8080/"
        },
        "id": "P6hGUJLormsw",
        "outputId": "7468e68f-8e9b-44a3-a41c-ba807a7c8a5a"
      },
      "execution_count": 37,
      "outputs": [
        {
          "output_type": "stream",
          "name": "stdout",
          "text": [
            "Mediana algoritmo: 7.85 Mediana biblioteca 7.85\n"
          ]
        }
      ]
    },
    {
      "cell_type": "code",
      "source": [
        "#-----------Moda-----------\n",
        "def modaiesb(dados):\n",
        " contador = list()\n",
        " for i in dados:\n",
        "   contador.append(dados.count(i))\n",
        " indice = contador.index(max(contador))\n",
        " mod = dados[indice]\n",
        " return mod\n",
        "#------------------------------------------------------------------------\n",
        "import statistics\n",
        "dados = [4, 5, 4, 5, 2, 2, 2]\n",
        "print(('Moda algoritmo:'), modaiesb(dados), 'Moda biblioteca', statistics.mode(dados))"
      ],
      "metadata": {
        "colab": {
          "base_uri": "https://localhost:8080/"
        },
        "id": "U8yopFx8yIex",
        "outputId": "2db5ae7b-8f9f-4ece-c298-1d13a679c2b0"
      },
      "execution_count": 53,
      "outputs": [
        {
          "output_type": "stream",
          "name": "stdout",
          "text": [
            "Moda algoritmo: 2 Moda biblioteca 2\n"
          ]
        }
      ]
    }
  ]
}