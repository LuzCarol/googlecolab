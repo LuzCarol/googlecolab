{
  "nbformat": 4,
  "nbformat_minor": 0,
  "metadata": {
    "colab": {
      "name": "Untitled3.ipynb",
      "provenance": [],
      "authorship_tag": "ABX9TyO1oVR2PW8hnsuF2ngkV+Ng",
      "include_colab_link": true
    },
    "kernelspec": {
      "name": "python3",
      "display_name": "Python 3"
    },
    "language_info": {
      "name": "python"
    }
  },
  "cells": [
    {
      "cell_type": "markdown",
      "metadata": {
        "id": "view-in-github",
        "colab_type": "text"
      },
      "source": [
        "<a href=\"https://colab.research.google.com/github/LuzCarol/googlecolab/blob/main/Untitled3.ipynb\" target=\"_parent\"><img src=\"https://colab.research.google.com/assets/colab-badge.svg\" alt=\"Open In Colab\"/></a>"
      ]
    },
    {
      "cell_type": "code",
      "execution_count": 7,
      "metadata": {
        "colab": {
          "base_uri": "https://localhost:8080/"
        },
        "id": "y4LpfEcBSNTF",
        "outputId": "b3cb2e11-26a0-43b8-8e4c-63a5d76f941e"
      },
      "outputs": [
        {
          "output_type": "stream",
          "name": "stdout",
          "text": [
            "[1, 'dois', 3.0, 'd']\n",
            "[4, 'dois', 3.0, 'd']\n",
            "[4, 'DOIS', 3.0, 'd']\n",
            "[4, 3.0, 'd', 'XX', 88]\n"
          ]
        }
      ],
      "source": [
        "lista = [1, \"dois\", 3.0, \"d\"]\n",
        "print(lista)\n",
        "lista[1]\n",
        "lista[0]=lista[0]+3\n",
        "print(lista)\n",
        "lista[1] = lista[1].upper()\n",
        "print(lista)\n",
        "lista.append(\"XX\") #adicionar o elemento na lista \n",
        "lista.append(88) #adicionar o elemento na lista\n",
        "lista.pop(1) #exclui o elemento 01 da lista\n",
        "\n",
        "print(lista)\n"
      ]
    },
    {
      "cell_type": "code",
      "source": [
        "a = [6, 8, 2, 7, 20, 7, 55]\n",
        "print(a)\n",
        "a.sort()\n",
        "print(a)\n",
        "a.reverse()\n",
        "print(a)\n"
      ],
      "metadata": {
        "colab": {
          "base_uri": "https://localhost:8080/"
        },
        "id": "gbGa_E0pVWL4",
        "outputId": "5b5ef13a-f925-47b6-e054-4e4db152e36d"
      },
      "execution_count": 9,
      "outputs": [
        {
          "output_type": "stream",
          "name": "stdout",
          "text": [
            "[6, 8, 2, 7, 20, 7, 55]\n",
            "[2, 6, 7, 7, 8, 20, 55]\n",
            "[55, 20, 8, 7, 7, 6, 2]\n"
          ]
        }
      ]
    },
    {
      "cell_type": "code",
      "source": [
        "a = [\"g\", \"f\", \"c\", \"z\"]\n",
        "print(a)\n",
        "a.sort()\n",
        "print(a)"
      ],
      "metadata": {
        "colab": {
          "base_uri": "https://localhost:8080/"
        },
        "id": "x8SXevZlVzW1",
        "outputId": "c4a57853-550c-47e3-90c5-18e24bd044ae"
      },
      "execution_count": 10,
      "outputs": [
        {
          "output_type": "stream",
          "name": "stdout",
          "text": [
            "['g', 'f', 'c', 'z']\n",
            "['c', 'f', 'g', 'z']\n"
          ]
        }
      ]
    },
    {
      "cell_type": "code",
      "source": [
        "a = [\"g\", \"f\", \"c\", \"z\", 1, 27, 5, 1]\n",
        "print(a)\n",
        "a.sort()\n",
        "print(a)"
      ],
      "metadata": {
        "colab": {
          "base_uri": "https://localhost:8080/",
          "height": 235
        },
        "id": "I-RDXO7sWfB1",
        "outputId": "4caddd2c-81ac-4d8b-b092-703b4c5b4ccb"
      },
      "execution_count": 11,
      "outputs": [
        {
          "output_type": "stream",
          "name": "stdout",
          "text": [
            "['g', 'f', 'c', 'z', 1, 27, 5, 1]\n"
          ]
        },
        {
          "output_type": "error",
          "ename": "TypeError",
          "evalue": "ignored",
          "traceback": [
            "\u001b[0;31m---------------------------------------------------------------------------\u001b[0m",
            "\u001b[0;31mTypeError\u001b[0m                                 Traceback (most recent call last)",
            "\u001b[0;32m<ipython-input-11-bc39ed48b929>\u001b[0m in \u001b[0;36m<module>\u001b[0;34m\u001b[0m\n\u001b[1;32m      1\u001b[0m \u001b[0ma\u001b[0m \u001b[0;34m=\u001b[0m \u001b[0;34m[\u001b[0m\u001b[0;34m\"g\"\u001b[0m\u001b[0;34m,\u001b[0m \u001b[0;34m\"f\"\u001b[0m\u001b[0;34m,\u001b[0m \u001b[0;34m\"c\"\u001b[0m\u001b[0;34m,\u001b[0m \u001b[0;34m\"z\"\u001b[0m\u001b[0;34m,\u001b[0m \u001b[0;36m1\u001b[0m\u001b[0;34m,\u001b[0m \u001b[0;36m27\u001b[0m\u001b[0;34m,\u001b[0m \u001b[0;36m5\u001b[0m\u001b[0;34m,\u001b[0m \u001b[0;36m1\u001b[0m\u001b[0;34m]\u001b[0m\u001b[0;34m\u001b[0m\u001b[0;34m\u001b[0m\u001b[0m\n\u001b[1;32m      2\u001b[0m \u001b[0mprint\u001b[0m\u001b[0;34m(\u001b[0m\u001b[0ma\u001b[0m\u001b[0;34m)\u001b[0m\u001b[0;34m\u001b[0m\u001b[0;34m\u001b[0m\u001b[0m\n\u001b[0;32m----> 3\u001b[0;31m \u001b[0ma\u001b[0m\u001b[0;34m.\u001b[0m\u001b[0msort\u001b[0m\u001b[0;34m(\u001b[0m\u001b[0;34m)\u001b[0m\u001b[0;34m\u001b[0m\u001b[0;34m\u001b[0m\u001b[0m\n\u001b[0m\u001b[1;32m      4\u001b[0m \u001b[0mprint\u001b[0m\u001b[0;34m(\u001b[0m\u001b[0ma\u001b[0m\u001b[0;34m)\u001b[0m\u001b[0;34m\u001b[0m\u001b[0;34m\u001b[0m\u001b[0m\n",
            "\u001b[0;31mTypeError\u001b[0m: '<' not supported between instances of 'int' and 'str'"
          ]
        }
      ]
    },
    {
      "cell_type": "markdown",
      "source": [
        "DICIONÁRIO\n"
      ],
      "metadata": {
        "id": "EUru2QEaW_Y1"
      }
    },
    {
      "cell_type": "code",
      "source": [
        "preco_frutas = {\"banana\": 2.59, \"mamão\": 5.5}\n",
        "preco_frutas [\"banana\"] = 4.99 #alterar valor\n",
        "preco_frutas  [\"mamão\"] = 0.99 #alterar valor\n",
        "preco_frutas  [\"pera\"] = 10.5 #adicionar novo elemento\n",
        "print(preco_frutas)\n",
        "#print(preco_frutas.keys())\n",
        "#print(preco_frutas.values())\n",
        "#preco_frutas[\"lista aqui\"] = [\"d\",23,1.6]\n",
        "preco_frutas['outro dic'] = {'arroz':15.99, \"açucar\":18.6}\n",
        "print(preco_frutas)"
      ],
      "metadata": {
        "colab": {
          "base_uri": "https://localhost:8080/"
        },
        "id": "jEZeM9CMXGEC",
        "outputId": "3cb3c8e5-ef1c-4a9a-c740-6fc3fd423fe3"
      },
      "execution_count": 19,
      "outputs": [
        {
          "output_type": "stream",
          "name": "stdout",
          "text": [
            "{'banana': 4.99, 'mamão': 0.99, 'pera': 10.5}\n",
            "{'banana': 4.99, 'mamão': 0.99, 'pera': 10.5, 'outro dic': {'arroz': 15.99, 'açucar': 18.6}}\n"
          ]
        }
      ]
    },
    {
      "cell_type": "markdown",
      "source": [
        "TUPLES"
      ],
      "metadata": {
        "id": "wlTtnzJdaDre"
      }
    },
    {
      "cell_type": "code",
      "source": [
        "tup = (1, \"dois\", 3.0, \"d\")\n",
        "print(type(tup))\n",
        "tup[0] = 5"
      ],
      "metadata": {
        "colab": {
          "base_uri": "https://localhost:8080/",
          "height": 218
        },
        "id": "-0zrCDPBaGaW",
        "outputId": "cd42f589-3aaa-4a48-9021-cf87dd4873b9"
      },
      "execution_count": 21,
      "outputs": [
        {
          "output_type": "stream",
          "name": "stdout",
          "text": [
            "<class 'tuple'>\n"
          ]
        },
        {
          "output_type": "error",
          "ename": "TypeError",
          "evalue": "ignored",
          "traceback": [
            "\u001b[0;31m---------------------------------------------------------------------------\u001b[0m",
            "\u001b[0;31mTypeError\u001b[0m                                 Traceback (most recent call last)",
            "\u001b[0;32m<ipython-input-21-7d8eb080bbcf>\u001b[0m in \u001b[0;36m<module>\u001b[0;34m\u001b[0m\n\u001b[1;32m      1\u001b[0m \u001b[0mtup\u001b[0m \u001b[0;34m=\u001b[0m \u001b[0;34m(\u001b[0m\u001b[0;36m1\u001b[0m\u001b[0;34m,\u001b[0m \u001b[0;34m\"dois\"\u001b[0m\u001b[0;34m,\u001b[0m \u001b[0;36m3.0\u001b[0m\u001b[0;34m,\u001b[0m \u001b[0;34m\"d\"\u001b[0m\u001b[0;34m)\u001b[0m\u001b[0;34m\u001b[0m\u001b[0;34m\u001b[0m\u001b[0m\n\u001b[1;32m      2\u001b[0m \u001b[0mprint\u001b[0m\u001b[0;34m(\u001b[0m\u001b[0mtype\u001b[0m\u001b[0;34m(\u001b[0m\u001b[0mtup\u001b[0m\u001b[0;34m)\u001b[0m\u001b[0;34m)\u001b[0m\u001b[0;34m\u001b[0m\u001b[0;34m\u001b[0m\u001b[0m\n\u001b[0;32m----> 3\u001b[0;31m \u001b[0mtup\u001b[0m\u001b[0;34m[\u001b[0m\u001b[0;36m0\u001b[0m\u001b[0;34m]\u001b[0m \u001b[0;34m=\u001b[0m \u001b[0;36m5\u001b[0m\u001b[0;34m\u001b[0m\u001b[0;34m\u001b[0m\u001b[0m\n\u001b[0m",
            "\u001b[0;31mTypeError\u001b[0m: 'tuple' object does not support item assignment"
          ]
        }
      ]
    },
    {
      "cell_type": "markdown",
      "source": [
        "SETS"
      ],
      "metadata": {
        "id": "avS7W4qTa0qd"
      }
    },
    {
      "cell_type": "code",
      "source": [
        "meuset = set()\n",
        "meuset.add (\"W\")\n",
        "meuset.add(45)\n",
        "print(meuset) "
      ],
      "metadata": {
        "colab": {
          "base_uri": "https://localhost:8080/"
        },
        "id": "aLMTkiJ2a2YT",
        "outputId": "7d531f95-3281-40c7-ead6-e69585601e42"
      },
      "execution_count": 29,
      "outputs": [
        {
          "output_type": "stream",
          "name": "stdout",
          "text": [
            "{45, 'W'}\n"
          ]
        }
      ]
    },
    {
      "cell_type": "code",
      "source": [
        "lista = [1, 5, 1, 4, 8, 4]\n",
        "novoset = set(lista)\n",
        "print(novoset)"
      ],
      "metadata": {
        "colab": {
          "base_uri": "https://localhost:8080/"
        },
        "id": "VmYXmRJJbspN",
        "outputId": "6a1060e4-163b-4ab4-cef3-8c1118d1b48b"
      },
      "execution_count": 30,
      "outputs": [
        {
          "output_type": "stream",
          "name": "stdout",
          "text": [
            "{8, 1, 4, 5}\n"
          ]
        }
      ]
    },
    {
      "cell_type": "code",
      "source": [
        "meuset2 = set('Mississipi')\n",
        "print(meuset2)"
      ],
      "metadata": {
        "colab": {
          "base_uri": "https://localhost:8080/"
        },
        "id": "ul7Wfm6ucT2e",
        "outputId": "3c119cab-b3d6-4880-a622-f919849d8782"
      },
      "execution_count": 31,
      "outputs": [
        {
          "output_type": "stream",
          "name": "stdout",
          "text": [
            "{'i', 'p', 's', 'M'}\n"
          ]
        }
      ]
    },
    {
      "cell_type": "markdown",
      "source": [
        "BOOLEANO"
      ],
      "metadata": {
        "id": "fa32N5qEcv6j"
      }
    },
    {
      "cell_type": "code",
      "source": [
        "a = True\n",
        "print(type(a))"
      ],
      "metadata": {
        "colab": {
          "base_uri": "https://localhost:8080/"
        },
        "id": "HoEpRgw6c358",
        "outputId": "4ebfc16c-99af-41e9-8c39-d18e52e1397c"
      },
      "execution_count": 32,
      "outputs": [
        {
          "output_type": "stream",
          "name": "stdout",
          "text": [
            "<class 'bool'>\n"
          ]
        }
      ]
    },
    {
      "cell_type": "code",
      "source": [
        "print(5>2)\n",
        "print(5>6)"
      ],
      "metadata": {
        "colab": {
          "base_uri": "https://localhost:8080/"
        },
        "id": "g9AoqkVwdHRB",
        "outputId": "f328a727-1320-48a5-d240-ed87ed46b2a6"
      },
      "execution_count": 34,
      "outputs": [
        {
          "output_type": "stream",
          "name": "stdout",
          "text": [
            "True\n",
            "False\n"
          ]
        }
      ]
    },
    {
      "cell_type": "markdown",
      "source": [
        "ARQUIVOS\n"
      ],
      "metadata": {
        "id": "Fe4sIbdid5Qg"
      }
    },
    {
      "cell_type": "code",
      "source": [
        "meuarquivo = open(\"teste.txt\")\n",
        "print(meuarquivo.read())"
      ],
      "metadata": {
        "colab": {
          "base_uri": "https://localhost:8080/"
        },
        "id": "Aa4co8G0d7zb",
        "outputId": "dc9565ce-cec9-49c3-ca21-5ea3760bc8e4"
      },
      "execution_count": 36,
      "outputs": [
        {
          "output_type": "stream",
          "name": "stdout",
          "text": [
            "Paçoquinha\n",
            "Nikita\n"
          ]
        }
      ]
    },
    {
      "cell_type": "markdown",
      "source": [
        "EXERCÍCIOS"
      ],
      "metadata": {
        "id": "sxXHx-OshZhY"
      }
    },
    {
      "cell_type": "code",
      "source": [
        "import sys\n",
        "print(\"Versão do Python\")\n",
        "print (sys.version)"
      ],
      "metadata": {
        "colab": {
          "base_uri": "https://localhost:8080/"
        },
        "id": "WMTo2WWthcd3",
        "outputId": "d5720e53-6849-4372-a461-cfa4b2b90b98"
      },
      "execution_count": 37,
      "outputs": [
        {
          "output_type": "stream",
          "name": "stdout",
          "text": [
            "Versão do Python\n",
            "3.7.13 (default, Apr 24 2022, 01:04:09) \n",
            "[GCC 7.5.0]\n"
          ]
        }
      ]
    },
    {
      "cell_type": "code",
      "source": [
        "print('\\t -----Conversão de medida-----')\n",
        "metros = float(input('Informe o valor em metros: '))\n",
        "print('O valor em centimetros é :', metros * 100)"
      ],
      "metadata": {
        "colab": {
          "base_uri": "https://localhost:8080/"
        },
        "id": "z_J75egRhyfF",
        "outputId": "da5f9717-58ac-46e2-d73a-ee01d2b40541"
      },
      "execution_count": 40,
      "outputs": [
        {
          "output_type": "stream",
          "name": "stdout",
          "text": [
            "\t -----Conversão de medida-----\n",
            "Informe o valor em metros: 2\n",
            "O valor em centimetros é : 200.0\n"
          ]
        }
      ]
    },
    {
      "cell_type": "code",
      "source": [
        "print('\\t ----Cálculo da média aritmética---- ')\n",
        "\n",
        "nota1 = float(input('Informe a primeira nota: '))\n",
        "nota2 = float(input('Informe a segunda nota: '))\n",
        "\n",
        "media = (nota1+ nota2)/2\n",
        "\n",
        "print('Média Aritmética' '=', media)"
      ],
      "metadata": {
        "colab": {
          "base_uri": "https://localhost:8080/"
        },
        "id": "4joY3zy2i-o7",
        "outputId": "faf38954-da73-4405-9b8a-1ee99ee8e37e"
      },
      "execution_count": 42,
      "outputs": [
        {
          "output_type": "stream",
          "name": "stdout",
          "text": [
            "\t ----Cálculo da média aritmética---- \n",
            "Informe a primeira nota: 5.8\n",
            "Informe a segunda nota: 4.5\n",
            "Média Aritmética= 5.15\n"
          ]
        }
      ]
    }
  ]
}